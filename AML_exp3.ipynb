{
  "cells": [
    {
      "cell_type": "markdown",
      "metadata": {
        "id": "view-in-github",
        "colab_type": "text"
      },
      "source": [
        "<a href=\"https://colab.research.google.com/github/Abubacker10/Advanced-Machine-Learning-Lab/blob/main/AML_exp3.ipynb\" target=\"_parent\"><img src=\"https://colab.research.google.com/assets/colab-badge.svg\" alt=\"Open In Colab\"/></a>"
      ]
    },
    {
      "cell_type": "markdown",
      "metadata": {
        "id": "zE7MDZ-n03Cw"
      },
      "source": [
        "# ADVANCED MACHINE LEARNING LAB - 7 (  Bayesian Network  )"
      ]
    },
    {
      "cell_type": "code",
      "source": [
        "!pip install pgmpy"
      ],
      "metadata": {
        "colab": {
          "base_uri": "https://localhost:8080/"
        },
        "id": "wPqVPxXN1CZ4",
        "outputId": "12866192-a69d-4c2d-a18c-a71fd82b6a8f"
      },
      "execution_count": 1,
      "outputs": [
        {
          "output_type": "stream",
          "name": "stdout",
          "text": [
            "Collecting pgmpy\n",
            "  Downloading pgmpy-0.1.25-py3-none-any.whl (2.0 MB)\n",
            "\u001b[?25l     \u001b[90m━━━━━━━━━━━━━━━━━━━━━━━━━━━━━━━━━━━━━━━━\u001b[0m \u001b[32m0.0/2.0 MB\u001b[0m \u001b[31m?\u001b[0m eta \u001b[36m-:--:--\u001b[0m\r\u001b[2K     \u001b[91m━━━━━\u001b[0m\u001b[91m╸\u001b[0m\u001b[90m━━━━━━━━━━━━━━━━━━━━━━━━━━━━━━━━━━\u001b[0m \u001b[32m0.3/2.0 MB\u001b[0m \u001b[31m8.1 MB/s\u001b[0m eta \u001b[36m0:00:01\u001b[0m\r\u001b[2K     \u001b[91m━━━━━━━━━━━━━━━━\u001b[0m\u001b[91m╸\u001b[0m\u001b[90m━━━━━━━━━━━━━━━━━━━━━━━\u001b[0m \u001b[32m0.8/2.0 MB\u001b[0m \u001b[31m11.8 MB/s\u001b[0m eta \u001b[36m0:00:01\u001b[0m\r\u001b[2K     \u001b[91m━━━━━━━━━━━━━━━━━━━━━━━━━━━━━━\u001b[0m\u001b[91m╸\u001b[0m\u001b[90m━━━━━━━━━\u001b[0m \u001b[32m1.5/2.0 MB\u001b[0m \u001b[31m14.5 MB/s\u001b[0m eta \u001b[36m0:00:01\u001b[0m\r\u001b[2K     \u001b[91m━━━━━━━━━━━━━━━━━━━━━━━━━━━━━━━━━━━━━━━\u001b[0m\u001b[91m╸\u001b[0m \u001b[32m2.0/2.0 MB\u001b[0m \u001b[31m15.8 MB/s\u001b[0m eta \u001b[36m0:00:01\u001b[0m\r\u001b[2K     \u001b[90m━━━━━━━━━━━━━━━━━━━━━━━━━━━━━━━━━━━━━━━━\u001b[0m \u001b[32m2.0/2.0 MB\u001b[0m \u001b[31m13.6 MB/s\u001b[0m eta \u001b[36m0:00:00\u001b[0m\n",
            "\u001b[?25hRequirement already satisfied: networkx in /usr/local/lib/python3.10/dist-packages (from pgmpy) (3.2.1)\n",
            "Requirement already satisfied: numpy in /usr/local/lib/python3.10/dist-packages (from pgmpy) (1.25.2)\n",
            "Requirement already satisfied: scipy in /usr/local/lib/python3.10/dist-packages (from pgmpy) (1.11.4)\n",
            "Requirement already satisfied: scikit-learn in /usr/local/lib/python3.10/dist-packages (from pgmpy) (1.2.2)\n",
            "Requirement already satisfied: pandas in /usr/local/lib/python3.10/dist-packages (from pgmpy) (1.5.3)\n",
            "Requirement already satisfied: pyparsing in /usr/local/lib/python3.10/dist-packages (from pgmpy) (3.1.2)\n",
            "Requirement already satisfied: torch in /usr/local/lib/python3.10/dist-packages (from pgmpy) (2.1.0+cu121)\n",
            "Requirement already satisfied: statsmodels in /usr/local/lib/python3.10/dist-packages (from pgmpy) (0.14.1)\n",
            "Requirement already satisfied: tqdm in /usr/local/lib/python3.10/dist-packages (from pgmpy) (4.66.2)\n",
            "Requirement already satisfied: joblib in /usr/local/lib/python3.10/dist-packages (from pgmpy) (1.3.2)\n",
            "Requirement already satisfied: opt-einsum in /usr/local/lib/python3.10/dist-packages (from pgmpy) (3.3.0)\n",
            "Requirement already satisfied: python-dateutil>=2.8.1 in /usr/local/lib/python3.10/dist-packages (from pandas->pgmpy) (2.8.2)\n",
            "Requirement already satisfied: pytz>=2020.1 in /usr/local/lib/python3.10/dist-packages (from pandas->pgmpy) (2023.4)\n",
            "Requirement already satisfied: threadpoolctl>=2.0.0 in /usr/local/lib/python3.10/dist-packages (from scikit-learn->pgmpy) (3.3.0)\n",
            "Requirement already satisfied: patsy>=0.5.4 in /usr/local/lib/python3.10/dist-packages (from statsmodels->pgmpy) (0.5.6)\n",
            "Requirement already satisfied: packaging>=21.3 in /usr/local/lib/python3.10/dist-packages (from statsmodels->pgmpy) (23.2)\n",
            "Requirement already satisfied: filelock in /usr/local/lib/python3.10/dist-packages (from torch->pgmpy) (3.13.1)\n",
            "Requirement already satisfied: typing-extensions in /usr/local/lib/python3.10/dist-packages (from torch->pgmpy) (4.10.0)\n",
            "Requirement already satisfied: sympy in /usr/local/lib/python3.10/dist-packages (from torch->pgmpy) (1.12)\n",
            "Requirement already satisfied: jinja2 in /usr/local/lib/python3.10/dist-packages (from torch->pgmpy) (3.1.3)\n",
            "Requirement already satisfied: fsspec in /usr/local/lib/python3.10/dist-packages (from torch->pgmpy) (2023.6.0)\n",
            "Requirement already satisfied: triton==2.1.0 in /usr/local/lib/python3.10/dist-packages (from torch->pgmpy) (2.1.0)\n",
            "Requirement already satisfied: six in /usr/local/lib/python3.10/dist-packages (from patsy>=0.5.4->statsmodels->pgmpy) (1.16.0)\n",
            "Requirement already satisfied: MarkupSafe>=2.0 in /usr/local/lib/python3.10/dist-packages (from jinja2->torch->pgmpy) (2.1.5)\n",
            "Requirement already satisfied: mpmath>=0.19 in /usr/local/lib/python3.10/dist-packages (from sympy->torch->pgmpy) (1.3.0)\n",
            "Installing collected packages: pgmpy\n",
            "Successfully installed pgmpy-0.1.25\n"
          ]
        }
      ]
    },
    {
      "cell_type": "markdown",
      "source": [
        "### Loading Data"
      ],
      "metadata": {
        "id": "VHvv6t9N-hJw"
      }
    },
    {
      "cell_type": "code",
      "execution_count": 3,
      "metadata": {
        "colab": {
          "base_uri": "https://localhost:8080/"
        },
        "id": "NWBfmfyf03Cy",
        "outputId": "ff4801f3-55fd-41b0-dc06-554547424cb5"
      },
      "outputs": [
        {
          "output_type": "stream",
          "name": "stdout",
          "text": [
            "    age  Gender  Family  diet  Lifestyle  cholestrol  heartdisease\n",
            "0     0       0       1     1          3           0             1\n",
            "1     0       1       1     1          3           0             1\n",
            "2     1       0       0     0          2           1             1\n",
            "3     4       0       1     1          3           2             0\n",
            "4     3       1       1     0          0           2             0\n",
            "5     2       0       1     1          1           0             1\n",
            "6     4       0       1     0          2           0             1\n",
            "7     0       0       1     1          3           0             1\n",
            "8     3       1       1     0          0           2             0\n",
            "9     1       1       0     0          0           2             1\n",
            "10    4       1       0     1          2           0             1\n",
            "11    4       0       1     1          3           2             0\n",
            "12    2       1       0     0          0           0             0\n",
            "13    2       0       1     1          1           0             1\n",
            "14    3       1       1     0          0           1             0\n",
            "15    0       0       1     0          0           2             1\n",
            "16    1       1       0     1          2           1             1\n",
            "17    3       1       1     1          0           1             0\n",
            "18    4       0       1     1          3           2             0\n"
          ]
        }
      ],
      "source": [
        "import pandas as pd\n",
        "data=pd.read_csv(\"/content/heartdisease.csv\")\n",
        "heart_disease=pd.DataFrame(data)\n",
        "print(heart_disease)"
      ]
    },
    {
      "cell_type": "markdown",
      "source": [
        "### Networking model"
      ],
      "metadata": {
        "id": "bwfonG5j-mPo"
      }
    },
    {
      "cell_type": "code",
      "execution_count": 4,
      "metadata": {
        "id": "kPENdAzD03Cy"
      },
      "outputs": [],
      "source": [
        "from pgmpy.models import BayesianNetwork\n",
        "model=BayesianNetwork([\n",
        "('age','Lifestyle'),\n",
        "('Gender','Lifestyle'),\n",
        "('Family','heartdisease'),\n",
        "('diet','cholestrol'),\n",
        "('Lifestyle','diet'),\n",
        "('cholestrol','heartdisease'),\n",
        "('diet','cholestrol')\n",
        "])\n",
        "\n",
        "from pgmpy.estimators import MaximumLikelihoodEstimator\n",
        "model.fit(heart_disease, estimator=MaximumLikelihoodEstimator)\n",
        "\n",
        "from pgmpy.inference import VariableElimination\n",
        "HeartDisease_infer = VariableElimination(model)"
      ]
    },
    {
      "cell_type": "markdown",
      "source": [
        "### Predictions"
      ],
      "metadata": {
        "id": "xBKz_lWP-rHA"
      }
    },
    {
      "cell_type": "code",
      "execution_count": 5,
      "metadata": {
        "colab": {
          "base_uri": "https://localhost:8080/"
        },
        "id": "1txJhUpK03Cz",
        "outputId": "50cd3848-a118-4cf6-bbf1-51d80d466ca1"
      },
      "outputs": [
        {
          "output_type": "stream",
          "name": "stdout",
          "text": [
            "For age Enter { SuperSeniorCitizen:0, SeniorCitizen:1, MiddleAged:2, Youth:3, Teen:4 }\n",
            "For Gender Enter { Male:0, Female:1 }\n",
            "For Family History Enter { yes:1, No:0 }\n",
            "For diet Enter { High:0, Medium:1 }\n",
            "For lifeStyle Enter { Athlete:0, Active:1, Moderate:2, Sedentary:3 }\n",
            "For cholesterol Enter { High:0, BorderLine:1, Normal:2 }\n",
            "Enter age :1\n",
            "Enter Gender :1\n",
            "Enter Family history :1\n",
            "Enter diet :1\n",
            "Enter Lifestyle :1\n",
            "Enter cholestrol :1\n",
            "+-----------------+---------------------+\n",
            "| heartdisease    |   phi(heartdisease) |\n",
            "+=================+=====================+\n",
            "| heartdisease(0) |              1.0000 |\n",
            "+-----------------+---------------------+\n",
            "| heartdisease(1) |              0.0000 |\n",
            "+-----------------+---------------------+\n"
          ]
        }
      ],
      "source": [
        "print('For age Enter { SuperSeniorCitizen:0, SeniorCitizen:1, MiddleAged:2, Youth:3, Teen:4 }')\n",
        "print('For Gender Enter { Male:0, Female:1 }')\n",
        "print('For Family History Enter { yes:1, No:0 }')\n",
        "print('For diet Enter { High:0, Medium:1 }')\n",
        "print('For lifeStyle Enter { Athlete:0, Active:1, Moderate:2, Sedentary:3 }')\n",
        "print('For cholesterol Enter { High:0, BorderLine:1, Normal:2 }')\n",
        "\n",
        "q = HeartDisease_infer.query(variables=['heartdisease'], evidence={\n",
        "    'age':int(input('Enter age :')),\n",
        "    'Gender':int(input('Enter Gender :')),\n",
        "    'Family':int(input('Enter Family history :')),\n",
        "    'diet':int(input('Enter diet :')),\n",
        "    'Lifestyle':int(input('Enter Lifestyle :')),\n",
        "    'cholestrol':int(input('Enter cholestrol :'))\n",
        "    })\n",
        "\n",
        "print(q)"
      ]
    }
  ],
  "metadata": {
    "kernelspec": {
      "display_name": "Python 3",
      "language": "python",
      "name": "python3"
    },
    "language_info": {
      "codemirror_mode": {
        "name": "ipython",
        "version": 3
      },
      "file_extension": ".py",
      "mimetype": "text/x-python",
      "name": "python",
      "nbconvert_exporter": "python",
      "pygments_lexer": "ipython3",
      "version": "3.7.1"
    },
    "colab": {
      "provenance": [],
      "include_colab_link": true
    }
  },
  "nbformat": 4,
  "nbformat_minor": 0
}